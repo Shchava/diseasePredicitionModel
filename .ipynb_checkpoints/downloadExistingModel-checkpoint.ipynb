{
 "cells": [
  {
   "cell_type": "code",
   "execution_count": null,
   "metadata": {},
   "outputs": [],
   "source": [
    "import numpy as np\n",
    "import tensorflow as tf\n",
    "import pandas as pd\n",
    "import matplotlib.pyplot as plt\n",
    "import seaborn as sns\n",
    "import sagemaker\n",
    "from sklearn.ensemble import RandomForestClassifier\n",
    "from sklearn.metrics import classification_report, confusion_matrix"
   ]
  },
  {
   "cell_type": "code",
   "execution_count": null,
   "metadata": {},
   "outputs": [],
   "source": [
    "import boto3"
   ]
  },
  {
   "cell_type": "code",
   "execution_count": 15,
   "metadata": {},
   "outputs": [],
   "source": [
    "s3 = boto3.client('s3')\n",
    "s3.download_file(Bucket='medical.train.data', Key='input/dataset.csv', Filename = 'dataset.csv')"
   ]
  },
  {
   "cell_type": "code",
   "execution_count": 35,
   "metadata": {},
   "outputs": [
    {
     "data": {
      "text/plain": [
       "<bound method NDFrame.head of                                       Disease             Symptom_1  \\\n",
       "0                            Fungal infection               itching   \n",
       "1                            Fungal infection             skin_rash   \n",
       "2                            Fungal infection               itching   \n",
       "3                            Fungal infection               itching   \n",
       "4                            Fungal infection               itching   \n",
       "...                                       ...                   ...   \n",
       "4915  (vertigo) Paroymsal  Positional Vertigo              vomiting   \n",
       "4916                                     Acne             skin_rash   \n",
       "4917                  Urinary tract infection   burning_micturition   \n",
       "4918                                Psoriasis             skin_rash   \n",
       "4919                                 Impetigo             skin_rash   \n",
       "\n",
       "                  Symptom_2              Symptom_3                  Symptom_4  \\\n",
       "0                 skin_rash   nodal_skin_eruptions        dischromic _patches   \n",
       "1      nodal_skin_eruptions    dischromic _patches                        NaN   \n",
       "2      nodal_skin_eruptions    dischromic _patches                        NaN   \n",
       "3                 skin_rash    dischromic _patches                        NaN   \n",
       "4                 skin_rash   nodal_skin_eruptions                        NaN   \n",
       "...                     ...                    ...                        ...   \n",
       "4915               headache                 nausea         spinning_movements   \n",
       "4916     pus_filled_pimples             blackheads                   scurring   \n",
       "4917     bladder_discomfort    foul_smell_of urine   continuous_feel_of_urine   \n",
       "4918             joint_pain           skin_peeling        silver_like_dusting   \n",
       "4919             high_fever                blister       red_sore_around_nose   \n",
       "\n",
       "                  Symptom_5            Symptom_6 Symptom_7 Symptom_8  \\\n",
       "0                       NaN                  NaN       NaN       NaN   \n",
       "1                       NaN                  NaN       NaN       NaN   \n",
       "2                       NaN                  NaN       NaN       NaN   \n",
       "3                       NaN                  NaN       NaN       NaN   \n",
       "4                       NaN                  NaN       NaN       NaN   \n",
       "...                     ...                  ...       ...       ...   \n",
       "4915        loss_of_balance         unsteadiness       NaN       NaN   \n",
       "4916                    NaN                  NaN       NaN       NaN   \n",
       "4917                    NaN                  NaN       NaN       NaN   \n",
       "4918   small_dents_in_nails   inflammatory_nails       NaN       NaN   \n",
       "4919      yellow_crust_ooze                  NaN       NaN       NaN   \n",
       "\n",
       "     Symptom_9 Symptom_10 Symptom_11 Symptom_12 Symptom_13 Symptom_14  \\\n",
       "0          NaN        NaN        NaN        NaN        NaN        NaN   \n",
       "1          NaN        NaN        NaN        NaN        NaN        NaN   \n",
       "2          NaN        NaN        NaN        NaN        NaN        NaN   \n",
       "3          NaN        NaN        NaN        NaN        NaN        NaN   \n",
       "4          NaN        NaN        NaN        NaN        NaN        NaN   \n",
       "...        ...        ...        ...        ...        ...        ...   \n",
       "4915       NaN        NaN        NaN        NaN        NaN        NaN   \n",
       "4916       NaN        NaN        NaN        NaN        NaN        NaN   \n",
       "4917       NaN        NaN        NaN        NaN        NaN        NaN   \n",
       "4918       NaN        NaN        NaN        NaN        NaN        NaN   \n",
       "4919       NaN        NaN        NaN        NaN        NaN        NaN   \n",
       "\n",
       "     Symptom_15 Symptom_16 Symptom_17  \n",
       "0           NaN        NaN        NaN  \n",
       "1           NaN        NaN        NaN  \n",
       "2           NaN        NaN        NaN  \n",
       "3           NaN        NaN        NaN  \n",
       "4           NaN        NaN        NaN  \n",
       "...         ...        ...        ...  \n",
       "4915        NaN        NaN        NaN  \n",
       "4916        NaN        NaN        NaN  \n",
       "4917        NaN        NaN        NaN  \n",
       "4918        NaN        NaN        NaN  \n",
       "4919        NaN        NaN        NaN  \n",
       "\n",
       "[4920 rows x 18 columns]>"
      ]
     },
     "execution_count": 35,
     "metadata": {},
     "output_type": "execute_result"
    }
   ],
   "source": [
    "df = pd.read_csv('dataset.csv')\n",
    "df.head\n"
   ]
  },
  {
   "cell_type": "code",
   "execution_count": 37,
   "metadata": {},
   "outputs": [],
   "source": [
    "train_test_split = int(len(df) *.8)\n",
    "trarin_set = df[:train_test_split]\n",
    "test_set = df[train_test_split:]"
   ]
  },
  {
   "cell_type": "code",
   "execution_count": null,
   "metadata": {},
   "outputs": [],
   "source": []
  }
 ],
 "metadata": {
  "kernelspec": {
   "display_name": "Python 3 (TensorFlow 2.3 Python 3.7 CPU Optimized)",
   "language": "python",
   "name": "python3__SAGEMAKER_INTERNAL__arn:aws:sagemaker:us-east-1:081325390199:image/tensorflow-2.3-cpu-py37-ubuntu18.04-v1"
  },
  "language_info": {
   "codemirror_mode": {
    "name": "ipython",
    "version": 3
   },
   "file_extension": ".py",
   "mimetype": "text/x-python",
   "name": "python",
   "nbconvert_exporter": "python",
   "pygments_lexer": "ipython3",
   "version": "3.7.10"
  }
 },
 "nbformat": 4,
 "nbformat_minor": 4
}
