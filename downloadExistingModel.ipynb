{
 "cells": [
  {
   "cell_type": "code",
   "execution_count": 1,
   "metadata": {},
   "outputs": [],
   "source": [
    "import json\n",
    "\n",
    "import boto3\n",
    "import numpy as np\n",
    "import io"
   ]
  },
  {
   "cell_type": "code",
   "execution_count": 2,
   "metadata": {},
   "outputs": [
    {
     "name": "stdout",
     "output_type": "stream",
     "text": [
      "<botocore.response.StreamingBody object at 0x7f3a7077d510>\n",
      "\n",
      "\n",
      "b'{\\n    \"predictions\": [[0.238328, 6.38668e-06, 0.000848923, 3.67636e-05, 0.188915, 4.851e-07, 0.000106738, 0.00176346, 2.53017e-06, 0.000138966, 4.47376e-05, 0.00404552, 4.02304e-05, 3.95267e-06, 0.000287615, 8.2837e-05, 0.0261688, 3.15628e-05, 2.49803e-06, 0.000264452, 0.066794, 3.86714e-05, 8.27609e-07, 8.13692e-05, 4.3912e-07, 0.000214419, 9.44281e-05, 4.12637e-05, 0.025987, 2.02691e-07, 0.0081436, 9.78226e-05, 4.21491e-06, 1.50274e-05, 3.90814e-07, 0.00436831, 0.00088645, 6.30555e-06, 0.429914, 0.00188882, 0.000303161]\\n    ]\\n}'\n"
     ]
    }
   ],
   "source": [
    "client = boto3.client('runtime.sagemaker')\n",
    "\n",
    "endpoint_name = 'sagemaker-tensorflow-serving-2021-03-27-15-35-15-207'\n",
    "\n",
    "# The sample model expects an input of shape [1,50]\n",
    "data = np.random.randn(1, 131).tolist()\n",
    "\n",
    "response = client.invoke_endpoint(EndpointName=endpoint_name, \n",
    "                                  ContentType='application/json',\n",
    "                                  Body=json.dumps(data))\n",
    "response_body = response['Body']\n",
    "\n",
    "print(np.max(response_body))\n",
    "print(\"\\n\")\n",
    "print(response_body.read())"
   ]
  },
  {
   "cell_type": "code",
   "execution_count": 49,
   "metadata": {},
   "outputs": [
    {
     "name": "stdout",
     "output_type": "stream",
     "text": [
      "acidity\n",
      "2\n",
      "abdominal_pain\n",
      "0\n",
      "[1, 0, 1, 0, 0, 0, 0, 0, 0, 0, 0, 0, 0, 0, 0, 0, 0, 0, 0, 0, 0, 0, 0, 0, 0, 0, 0, 0, 0, 0, 0, 0, 0, 0, 0, 0, 0, 0, 0, 0, 0, 0, 0, 0, 0, 0, 0, 0, 0, 0, 0, 0, 0, 0, 0, 0, 0, 0, 0, 0, 0, 0, 0, 0, 0, 0, 0, 0, 0, 0, 0, 0, 0, 0, 0, 0, 0, 0, 0, 0, 0, 0, 0, 0, 0, 0, 0, 0, 0, 0, 0, 0, 0, 0, 0, 0, 0, 0, 0, 0, 0, 0, 0, 0, 0, 0, 0, 0, 0, 0, 0, 0, 0, 0, 0, 0, 0, 0, 0, 0, 0, 0, 0, 0, 0, 0, 0, 0, 0, 0, 0]\n"
     ]
    },
    {
     "data": {
      "text/plain": [
       "b'{\\n    \"diagnosis\": \"GERD\",\\n    \"probability\": 0.101009\\n}'"
      ]
     },
     "execution_count": 49,
     "metadata": {},
     "output_type": "execute_result"
    }
   ],
   "source": [
    "    sagemakerClient = boto3.client('runtime.sagemaker')\n",
    "\n",
    "    endpoint_name = 'sagemaker-tensorflow-serving-2021-03-27-15-35-15-207'\n",
    "\n",
    "    data = [0] * 131\n",
    "    \n",
    "    input = ['acidity','abdominal_pain']\n",
    "\n",
    "    symptoms_list_object = s3_client.Object('medical.train.data', 'dataMapping/symptomNamesList.json')\n",
    "    symptoms_list_file = symptoms_list_object.get()['Body'].read().decode('utf-8')\n",
    "    symptoms_list = json.loads(symptoms_list_file)\n",
    "\n",
    "    for symptom in input:\n",
    "        print(symptom)\n",
    "        symptom_index = symptoms_list.index(symptom)\n",
    "        print(symptom_index)\n",
    "        data[symptom_index] = 1\n",
    "    \n",
    "    print(data) \n",
    "\n",
    "    response = sagemakerClient.invoke_endpoint(EndpointName=endpoint_name,\n",
    "                                               ContentType='application/json',\n",
    "                                               Body=json.dumps(data))\n",
    "    response_body = response['Body']\n",
    "    response_payload = json.loads(response_body.read().decode(\"utf-8\"))    \n",
    "    \n",
    "    predictions =  response_payload['predictions'][0]\n",
    "    \n",
    "    dignosis_probability = max(predictions)\n",
    "    dignosis_id = predictions.index(dignosis_probability)\n",
    "    \n",
    "    s3_client = boto3.resource('s3')\n",
    "    \n",
    "    diagnoses_dict_object = s3_client.Object('medical.train.data', 'dataMapping/diagnosesDict.json')\n",
    "    diagnoses_dict_file = diagnoses_dict_object.get()['Body'].read().decode('utf-8')\n",
    "    diagnoses_dict = json.loads(diagnoses_dict_file)\n",
    "    \n",
    "    dignosis_name =  diagnoses_dict[str(dignosis_id)]\n",
    "    \n",
    "    \n",
    "    \n",
    "    response = {}\n",
    "    response['diagnosis'] = dignosis_name\n",
    "    response['probability'] = dignosis_probability\n",
    "    \n",
    "    json.dumps(response, ensure_ascii=False, indent=4).encode('UTF-8')"
   ]
  },
  {
   "cell_type": "code",
   "execution_count": 48,
   "metadata": {},
   "outputs": [
    {
     "name": "stdout",
     "output_type": "stream",
     "text": [
      "acidity\n",
      "2\n",
      "abdominal_pain\n",
      "0\n"
     ]
    }
   ],
   "source": [
    "\n"
   ]
  },
  {
   "cell_type": "code",
   "execution_count": null,
   "metadata": {},
   "outputs": [],
   "source": []
  },
  {
   "cell_type": "code",
   "execution_count": null,
   "metadata": {},
   "outputs": [],
   "source": []
  }
 ],
 "metadata": {
  "kernelspec": {
   "display_name": "Python 3 (Data Science)",
   "language": "python",
   "name": "python3__SAGEMAKER_INTERNAL__arn:aws:sagemaker:us-east-1:081325390199:image/datascience-1.0"
  },
  "language_info": {
   "codemirror_mode": {
    "name": "ipython",
    "version": 3
   },
   "file_extension": ".py",
   "mimetype": "text/x-python",
   "name": "python",
   "nbconvert_exporter": "python",
   "pygments_lexer": "ipython3",
   "version": "3.7.10"
  }
 },
 "nbformat": 4,
 "nbformat_minor": 4
}
